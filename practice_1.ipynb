{
 "cells": [
  {
   "cell_type": "code",
   "execution_count": 18,
   "metadata": {},
   "outputs": [
    {
     "name": "stdout",
     "output_type": "stream",
     "text": [
      "The H.C.F. is 100\n"
     ]
    }
   ],
   "source": [
    "# Python program to find H.C.F of two numbers\n",
    "\n",
    "# define a function\n",
    "def compute_hcf(x, y):\n",
    "\n",
    "# choose the smaller number\n",
    "    if x > y:\n",
    "        smaller = y\n",
    "    else:\n",
    "        smaller = x\n",
    "    for i in range(1, smaller+1):\n",
    "        if((x % i == 0) and (y % i == 0)):\n",
    "            hcf = i \n",
    "    return hcf\n",
    "\n",
    "num1 = 100\n",
    "num2 = 50500\n",
    "\n",
    "print(\"The H.C.F. is\", compute_hcf(num1, num2))"
   ]
  },
  {
   "cell_type": "code",
   "execution_count": 6,
   "metadata": {},
   "outputs": [
    {
     "name": "stdout",
     "output_type": "stream",
     "text": [
      "285\n"
     ]
    }
   ],
   "source": [
    "#find the maximum of n numbers\n",
    "\n",
    "l=[2,5,4,6,10,285,3,8]\n",
    "maxi=l[0]\n",
    "for i in l:\n",
    "    if i>maxi:\n",
    "        maxi=i\n",
    "        \n",
    "print(maxi)\n",
    "    \n"
   ]
  },
  {
   "cell_type": "code",
   "execution_count": 13,
   "metadata": {},
   "outputs": [
    {
     "name": "stdout",
     "output_type": "stream",
     "text": [
      "[285, 10, 8, 6, 5, 4, 3, 2]\n"
     ]
    }
   ],
   "source": [
    "#sorting in decending order\n",
    "\n",
    "l=[2,5,4,6,10,285,3,8]\n",
    "a=[]\n",
    "\n",
    "while l:\n",
    "    maxi=l[0]\n",
    "    for i in l:\n",
    "        if i>maxi:\n",
    "            maxi=i\n",
    "    a.append(maxi)\n",
    "    l.remove(maxi)\n",
    "    \n",
    "print(a)\n",
    "    "
   ]
  },
  {
   "cell_type": "code",
   "execution_count": 1,
   "metadata": {},
   "outputs": [
    {
     "name": "stdout",
     "output_type": "stream",
     "text": [
      "[67, 22, 21, 5, 0, -3, -7, -23]\n"
     ]
    }
   ],
   "source": [
    "#sorting in decending order(alternate way)\n",
    "\n",
    "l=[-23, -7, -3, 0, 5, 21, 22, 67]\n",
    "\n",
    "a=[]\n",
    " \n",
    "for i in range(len(l)):\n",
    "    x= max(l)\n",
    "    a.append(x)\n",
    "    l.remove(x)\n",
    "    \n",
    "print(a)"
   ]
  },
  {
   "cell_type": "code",
   "execution_count": 17,
   "metadata": {},
   "outputs": [
    {
     "name": "stdout",
     "output_type": "stream",
     "text": [
      "[67]\n",
      "[-23, -6, -5, 0, 5, 23, 23]\n"
     ]
    }
   ],
   "source": [
    "#sorting in ascending order\n",
    "\n",
    "l=[-23, -7, -3, 0, 5, 21, 22, 67]\n",
    "\n",
    "a=[]\n",
    " \n",
    "x= max(l)\n",
    "a.append(x)\n",
    "l.remove(x)\n",
    "    \n",
    "print(a)\n",
    "print(l)"
   ]
  },
  {
   "cell_type": "code",
   "execution_count": 19,
   "metadata": {},
   "outputs": [
    {
     "name": "stdout",
     "output_type": "stream",
     "text": [
      "[67, 23, 23, 5, 0, -5, -6, -23]\n"
     ]
    }
   ],
   "source": [
    "#Bubble sort alogorithm\n",
    "\n",
    "l=[-23, -6, -5, 0, 5, 23, 23, 67]\n",
    "\n",
    "a=[]\n",
    "for i in range(len(l)-1,0,-1):\n",
    "    for j in range(i):\n",
    "        l[j]>l[j+1]\n",
    "        l[j],l[j+1]=l[j+1],l[j]\n",
    "print(l)"
   ]
  },
  {
   "cell_type": "code",
   "execution_count": 7,
   "metadata": {},
   "outputs": [
    {
     "name": "stdout",
     "output_type": "stream",
     "text": [
      "enter the sentence: my name is chandan\n",
      "number of vowels =  5\n"
     ]
    }
   ],
   "source": [
    "#counting number of vowels in string\n",
    "\n",
    "sen = input(\"enter the sentence: \")\n",
    "\n",
    "string = sen.lower()\n",
    "\n",
    "lst1=[\"a\",\"e\",\"i\",\"o\",\"u\"]\n",
    "\n",
    "count=0\n",
    "\n",
    "for i in string.replace(\" \",\"\"):\n",
    "    if i in lst1:\n",
    "        count+=1\n",
    "\n",
    "print(\"number of vowels = \",count)"
   ]
  },
  {
   "cell_type": "code",
   "execution_count": 9,
   "metadata": {},
   "outputs": [
    {
     "name": "stdout",
     "output_type": "stream",
     "text": [
      "enter the sentence: my name is chandan\n",
      "number of consoants =  10\n"
     ]
    }
   ],
   "source": [
    "#counting number of consoants in string\n",
    "\n",
    "sen = input(\"enter the sentence: \")\n",
    "\n",
    "string = sen.lower()\n",
    "\n",
    "lst1=[\"a\",\"e\",\"i\",\"o\",\"u\"]\n",
    "\n",
    "count=0\n",
    "\n",
    "for i in string.replace(\" \",\"\"):\n",
    "    if i not in lst1:\n",
    "        count+=1\n",
    "\n",
    "print(\"number of consoants = \",count)"
   ]
  },
  {
   "cell_type": "code",
   "execution_count": 10,
   "metadata": {},
   "outputs": [
    {
     "name": "stdout",
     "output_type": "stream",
     "text": [
      "enter the sentence: my name is chandan\n",
      "number of consoants =  10\n"
     ]
    }
   ],
   "source": [
    "#counting number of consoants in string(alternate)\n",
    "\n",
    "sen = input(\"enter the sentence: \")\n",
    "string = sen.lower()\n",
    "\n",
    "lst1=[\"a\",\"e\",\"i\",\"o\",\"u\",\" \"]\n",
    "count=0\n",
    "\n",
    "for i in string:\n",
    "    if i not in lst1:\n",
    "        count+=1\n",
    "print(\"number of consoants = \",count)"
   ]
  },
  {
   "cell_type": "code",
   "execution_count": 12,
   "metadata": {},
   "outputs": [
    {
     "name": "stdout",
     "output_type": "stream",
     "text": [
      "Given Sting: my name is chandan\n",
      "Given Specified Character: #\n",
      "Afer replacing vowels with the specified character: my n#m# #s ch#nd#n\n"
     ]
    }
   ],
   "source": [
    " def replaceVowelsWithK(tst_str, K):\n",
    "        \n",
    "    vowels = 'AEIOUaeiou'\n",
    " \n",
    "    for ele in vowels: \n",
    " \n",
    "        tst_str = tst_str.replace(ele, K) \n",
    "\n",
    "    return tst_str \n",
    " \n",
    "ip_str = \"my name is chandan\"\n",
    " \n",
    "K = \"#\"\n",
    "\n",
    "print(\"Given Sting:\", ip_str) \n",
    "print(\"Given Specified Character:\", K) \n",
    "\n",
    "print(\"Afer replacing vowels with the specified character:\", \n",
    "    replaceVowelsWithK(ip_str, K)) \n"
   ]
  },
  {
   "cell_type": "code",
   "execution_count": 13,
   "metadata": {},
   "outputs": [
    {
     "ename": "SyntaxError",
     "evalue": "invalid syntax (<ipython-input-13-b802f491feab>, line 6)",
     "output_type": "error",
     "traceback": [
      "\u001b[1;36m  File \u001b[1;32m\"<ipython-input-13-b802f491feab>\"\u001b[1;36m, line \u001b[1;32m6\u001b[0m\n\u001b[1;33m    for ele in not vowels and in x:\u001b[0m\n\u001b[1;37m                               ^\u001b[0m\n\u001b[1;31mSyntaxError\u001b[0m\u001b[1;31m:\u001b[0m invalid syntax\n"
     ]
    }
   ],
   "source": [
    " def replaceconWithK(tst_str, K):\n",
    "        \n",
    "    vowels = 'AEIOUaeiou'\n",
    "    x= \" \"\n",
    " \n",
    "    for ele in not vowels and  in x: \n",
    " \n",
    "        tst_str = tst_str.replace(ele, K) \n",
    "\n",
    "    return tst_str \n",
    " \n",
    "ip_str = \"my name is chandan\"\n",
    " \n",
    "K = \"#\"\n",
    "\n",
    "print(\"Given Sting:\", ip_str) \n",
    "print(\"Given Specified Character:\", K) \n",
    "\n",
    "print(\"Afer replacing vowels with the specified character:\", \n",
    "    replaceVowelsWithK(ip_str, K)) \n"
   ]
  },
  {
   "cell_type": "code",
   "execution_count": 14,
   "metadata": {},
   "outputs": [],
   "source": [
    "def prime(a):\n",
    "    if a>1:\n",
    "        for i in range(2,a):\n",
    "            if a%i==0:\n",
    "                print(\"not prime\")\n",
    "                break\n",
    "            else:\n",
    "                print(\"prime\")\n",
    "                break\n",
    "    else:\n",
    "        print(\"not prime\")"
   ]
  },
  {
   "cell_type": "code",
   "execution_count": 29,
   "metadata": {},
   "outputs": [
    {
     "name": "stdout",
     "output_type": "stream",
     "text": [
      "not prime\n"
     ]
    }
   ],
   "source": [
    "prime(20)"
   ]
  },
  {
   "cell_type": "code",
   "execution_count": 39,
   "metadata": {},
   "outputs": [
    {
     "name": "stdout",
     "output_type": "stream",
     "text": [
      "[12, 24, 45, 48, 55, 67, 83]\n"
     ]
    }
   ],
   "source": [
    "#Merge sort\n",
    "\n",
    "def mergeSort(lst):\n",
    "   \n",
    "    if len(lst)>1:\n",
    "        mid = len(lst)//2\n",
    "        lefthalf = lst[:mid]\n",
    "        righthalf = lst[mid:]\n",
    "\n",
    "        mergeSort(lefthalf)\n",
    "        mergeSort(righthalf)\n",
    "        i=j=k=0       \n",
    "        while i < len(lefthalf) and j < len(righthalf):\n",
    "            if lefthalf[i] < righthalf[j]:\n",
    "                lst[k]=lefthalf[i]\n",
    "                i=i+1\n",
    "            else:\n",
    "                lst[k]=righthalf[j]\n",
    "                j=j+1\n",
    "            k=k+1\n",
    "\n",
    "        while i < len(lefthalf):\n",
    "            lst[k]=lefthalf[i]\n",
    "            i=i+1\n",
    "            k=k+1\n",
    "\n",
    "        while j < len(righthalf):\n",
    "            nlist[k]=righthalf[j]\n",
    "            j=j+1\n",
    "            k=k+1\n",
    "    \n",
    "\n",
    "lst = [24,55,83,67,48,45,12]\n",
    "mergeSort(lst)\n",
    "print(lst)"
   ]
  },
  {
   "cell_type": "code",
   "execution_count": 42,
   "metadata": {},
   "outputs": [
    {
     "name": "stdout",
     "output_type": "stream",
     "text": [
      "[12, 24, 45, 48, 55, 67, 83]\n"
     ]
    }
   ],
   "source": [
    "#insertion sort\n",
    "\n",
    "def insertionSort(lst):\n",
    "    for index in range(1,len(lst)):\n",
    "\n",
    "        currentvalue = lst[index]\n",
    "        position = index\n",
    "\n",
    "        while position>0 and lst[position-1]>currentvalue:\n",
    "            lst[position]=lst[position-1]\n",
    "            position = position-1\n",
    "\n",
    "        lst[position]=currentvalue\n",
    "        \n",
    "lst = [24,55,83,67,48,45,12]\n",
    "insertionSort(lst)\n",
    "print(lst)"
   ]
  },
  {
   "cell_type": "code",
   "execution_count": 45,
   "metadata": {},
   "outputs": [
    {
     "name": "stdout",
     "output_type": "stream",
     "text": [
      "Enter the terms :5\n",
      "0 1 1 2 3 "
     ]
    }
   ],
   "source": [
    "#fibonachi series\n",
    "\n",
    "x=int(input(\"Enter the terms :\"))\n",
    "a=0                                         \n",
    "b=1                                         \n",
    "if x<=0:\n",
    "    print(\"The requested series is\",a)\n",
    "else:\n",
    "    print(a,b,end=\" \")\n",
    "          \n",
    "    for i in range(2,x):\n",
    "        c=a+b                           \n",
    "        print(c,end=\" \")\n",
    "        a=b\n",
    "        b=c"
   ]
  },
  {
   "cell_type": "code",
   "execution_count": 46,
   "metadata": {},
   "outputs": [
    {
     "name": "stdout",
     "output_type": "stream",
     "text": [
      "Select any operation.\n",
      "1.Add\n",
      "2.Sub\n",
      "3.Mul\n",
      "4.Div\n",
      "Enter option(1/2/3/4): 1\n",
      "Enter first number: 2\n",
      "Enter second number: 2\n",
      "2.0 + 2.0 = 4.0\n"
     ]
    }
   ],
   "source": [
    "#simple calculator\n",
    "\n",
    "def add(x, y):\n",
    "    return x + y\n",
    "\n",
    "def sub(x, y):\n",
    "    return x - y\n",
    "\n",
    "def mul(x, y):\n",
    "    return x * y\n",
    "\n",
    "def div(x, y):\n",
    "    return x / y\n",
    "\n",
    "\n",
    "print(\"Select any operation.\")\n",
    "print(\"1.Add\")\n",
    "print(\"2.Sub\")\n",
    "print(\"3.Mul\")\n",
    "print(\"4.Div\")\n",
    "\n",
    "while True:\n",
    "    \n",
    "    option = input(\"Enter option(1/2/3/4): \")\n",
    "\n",
    "    if option in ('1', '2', '3', '4'):\n",
    "        n1 = float(input(\"Enter first number: \"))\n",
    "        n2 = float(input(\"Enter second number: \"))\n",
    "\n",
    "        if option == '1':\n",
    "            print(n1, \"+\", n2, \"=\", add(n1, n2))\n",
    "\n",
    "        elif option == '2':\n",
    "            print(n1, \"-\", n2, \"=\", sub(n1, n2))\n",
    "\n",
    "        elif option == '3':\n",
    "            print(n1, \"*\", n2, \"=\", mul(n1, n2))\n",
    "\n",
    "        elif option == '4':\n",
    "            print(n1, \"/\", n2, \"=\", div(n1, n2))\n",
    "        break\n",
    "    else:\n",
    "        print(\"Invalid Input\")"
   ]
  },
  {
   "cell_type": "markdown",
   "metadata": {},
   "source": [
    "# Types of pattern in python"
   ]
  },
  {
   "cell_type": "code",
   "execution_count": 15,
   "metadata": {},
   "outputs": [
    {
     "name": "stdout",
     "output_type": "stream",
     "text": [
      " \n",
      "1  \n",
      "2 2  \n",
      "3 3 3  \n",
      "4 4 4 4  \n",
      "5 5 5 5 5  \n"
     ]
    }
   ],
   "source": [
    "rows = 6\n",
    "for num in range(rows):\n",
    "    for i in range(num):\n",
    "        print(num, end=\" \")  \n",
    "   \n",
    "    print(\" \")"
   ]
  },
  {
   "cell_type": "code",
   "execution_count": 16,
   "metadata": {},
   "outputs": [
    {
     "name": "stdout",
     "output_type": "stream",
     "text": [
      "1 \n",
      "1 2 \n",
      "1 2 3 \n",
      "1 2 3 4 \n",
      "1 2 3 4 5 \n"
     ]
    }
   ],
   "source": [
    "rows = 5\n",
    "for row in range(1, rows+1):\n",
    "    for column in range(1, row + 1):\n",
    "        print(column, end=' ')\n",
    "    print(\"\")"
   ]
  },
  {
   "cell_type": "code",
   "execution_count": 18,
   "metadata": {},
   "outputs": [
    {
     "name": "stdout",
     "output_type": "stream",
     "text": [
      "1 1 1 1 1 \r\n",
      "2 2 2 2 \r\n",
      "3 3 3 \r\n",
      "4 4 \r\n",
      "5 \r\n"
     ]
    }
   ],
   "source": [
    "rows = 5\n",
    "b = 0\n",
    "for i in range(rows, 0, -1):\n",
    "    b += 1\n",
    "    for j in range(1, i + 1):\n",
    "        print(b, end=' ')\n",
    "    print('\\r')\n"
   ]
  },
  {
   "cell_type": "code",
   "execution_count": 19,
   "metadata": {},
   "outputs": [
    {
     "name": "stdout",
     "output_type": "stream",
     "text": [
      "1 \n",
      "2 3 4 \n",
      "5 6 7 8 9 \n"
     ]
    }
   ],
   "source": [
    "currentNumber = 1\n",
    "stop = 2\n",
    "rows = 3  \n",
    "\n",
    "for i in range(rows):\n",
    "    for column in range(1, stop):\n",
    "        print(currentNumber, end=' ')\n",
    "        currentNumber += 1\n",
    "    print(\"\")\n",
    "    stop += 2\n"
   ]
  },
  {
   "cell_type": "code",
   "execution_count": 20,
   "metadata": {},
   "outputs": [
    {
     "name": "stdout",
     "output_type": "stream",
     "text": [
      "1 \n",
      "2 3 \n",
      "4 5 6 \n",
      "7 8 9 10 \n"
     ]
    }
   ],
   "source": [
    "currentNumber = 1\n",
    "rows = 4  \n",
    "stop = 2\n",
    "for i in range(rows):\n",
    "    for column in range(1, stop):\n",
    "        print(currentNumber, end=' ')\n",
    "        currentNumber += 1\n",
    "    print(\"\")\n",
    "    stop += 1"
   ]
  },
  {
   "cell_type": "code",
   "execution_count": 21,
   "metadata": {},
   "outputs": [
    {
     "name": "stdout",
     "output_type": "stream",
     "text": [
      "1 2 3 4 5 \n",
      "2 2 3 4 5 \n",
      "3 3 3 4 5 \n",
      "4 4 4 4 5 \n",
      "5 5 5 5 5 \n"
     ]
    }
   ],
   "source": [
    "rows = 5\n",
    "for i in range(1, rows + 1):\n",
    "    for j in range(1, rows + 1):\n",
    "        if j <= i:\n",
    "            print(i, end=' ')\n",
    "        else:\n",
    "            print(j, end=' ')\n",
    "    print()"
   ]
  },
  {
   "cell_type": "code",
   "execution_count": 22,
   "metadata": {},
   "outputs": [
    {
     "name": "stdout",
     "output_type": "stream",
     "text": [
      "Print equilateral triangle Pyramid using stars \n",
      "            *   \n",
      "           *  *   \n",
      "          *  *  *   \n",
      "         *  *  *  *   \n",
      "        *  *  *  *  *   \n",
      "       *  *  *  *  *  *   \n",
      "      *  *  *  *  *  *  *   \n"
     ]
    }
   ],
   "source": [
    "print(\"Print equilateral triangle Pyramid using stars \")\n",
    "size = 7\n",
    "m = (2 * size) - 2\n",
    "for i in range(0, size):\n",
    "    for j in range(0, m):\n",
    "        print(end=\" \")\n",
    "    m = m - 1  \n",
    "    for j in range(0, i + 1):\n",
    "        \n",
    "        print(\"* \", end=' ')\n",
    "    print(\" \")\n"
   ]
  },
  {
   "cell_type": "code",
   "execution_count": 23,
   "metadata": {},
   "outputs": [
    {
     "name": "stdout",
     "output_type": "stream",
     "text": [
      "* \r\n",
      "* * \r\n",
      "* * * \r\n",
      "* * * * \r\n",
      "* * * * * \r\n"
     ]
    }
   ],
   "source": [
    "rows = 5\n",
    "for i in range(0, rows):\n",
    "    for j in range(0, i + 1):\n",
    "        print(\"*\", end=' ')\n",
    "\n",
    "    print(\"\\r\")\n"
   ]
  },
  {
   "cell_type": "code",
   "execution_count": 24,
   "metadata": {},
   "outputs": [
    {
     "name": "stdout",
     "output_type": "stream",
     "text": [
      "        * * * * * * \n",
      "         * * * * * \n",
      "          * * * * \n",
      "           * * * \n",
      "            * * \n",
      "             * \n"
     ]
    }
   ],
   "source": [
    "rows = 5\n",
    "k = 2 * rows - 2\n",
    "for i in range(rows, -1, -1):\n",
    "    for j in range(k, 0, -1):\n",
    "        print(end=\" \")\n",
    "    k = k + 1\n",
    "    for j in range(0, i + 1):\n",
    "        print(\"*\", end=\" \")\n",
    "    print(\"\")\n"
   ]
  },
  {
   "cell_type": "code",
   "execution_count": 25,
   "metadata": {},
   "outputs": [
    {
     "data": {
      "text/plain": [
       "'C:\\\\Users\\\\HP'"
      ]
     },
     "execution_count": 25,
     "metadata": {},
     "output_type": "execute_result"
    }
   ],
   "source": [
    "pwd"
   ]
  },
  {
   "cell_type": "code",
   "execution_count": 10,
   "metadata": {},
   "outputs": [],
   "source": [
    "#hcf uisng recursive function\n",
    "def hcf(a,b):\n",
    "    if b==0:\n",
    "        return a\n",
    "    else:\n",
    "        return hcf(b,a%b)"
   ]
  },
  {
   "cell_type": "code",
   "execution_count": 12,
   "metadata": {},
   "outputs": [
    {
     "data": {
      "text/plain": [
       "5"
      ]
     },
     "execution_count": 12,
     "metadata": {},
     "output_type": "execute_result"
    }
   ],
   "source": [
    "hcf(25,255)"
   ]
  },
  {
   "cell_type": "code",
   "execution_count": 30,
   "metadata": {},
   "outputs": [],
   "source": [
    "#finding lcm of two numbers\n",
    "\n",
    "def c_hcf(a,b):\n",
    "    \n",
    "     if b==0:\n",
    "        return a\n",
    "     else:\n",
    "        return hcf(b,a%b)\n",
    "    \n",
    "def c_lcm(a,b):\n",
    "        lcm = a*b/hcf(a,b)\n",
    "        return lcm\n",
    "\n"
   ]
  },
  {
   "cell_type": "code",
   "execution_count": 31,
   "metadata": {},
   "outputs": [
    {
     "data": {
      "text/plain": [
       "75.0"
      ]
     },
     "execution_count": 31,
     "metadata": {},
     "output_type": "execute_result"
    }
   ],
   "source": [
    "c_lcm(15,25)"
   ]
  },
  {
   "cell_type": "code",
   "execution_count": 28,
   "metadata": {},
   "outputs": [],
   "source": [
    "def c_lcm(a, b):\n",
    "    lar = max(a,b)\n",
    "    \n",
    "    while(True):\n",
    "        if(lar % a == 0) and (lar % b == 0):\n",
    "            lcm = lar\n",
    "            break\n",
    "        lar += 1\n",
    "\n",
    "    return lcm"
   ]
  },
  {
   "cell_type": "code",
   "execution_count": 32,
   "metadata": {},
   "outputs": [
    {
     "data": {
      "text/plain": [
       "2805.0"
      ]
     },
     "execution_count": 32,
     "metadata": {},
     "output_type": "execute_result"
    }
   ],
   "source": [
    "c_lcm(55,255)"
   ]
  },
  {
   "cell_type": "code",
   "execution_count": 35,
   "metadata": {},
   "outputs": [
    {
     "name": "stdout",
     "output_type": "stream",
     "text": [
      "enter the number n: 25\n",
      "325\n"
     ]
    }
   ],
   "source": [
    "#sum of n natural numbers\n",
    "n=int(input(\"enter the number n: \"))\n",
    "sum_n=0\n",
    "i=1\n",
    "while i<=n:\n",
    "    sum_n=sum_n+i\n",
    "    i=i+1\n",
    "print(sum_n)"
   ]
  },
  {
   "cell_type": "code",
   "execution_count": 5,
   "metadata": {},
   "outputs": [
    {
     "name": "stdout",
     "output_type": "stream",
     "text": [
      "enter the number n: 25\n",
      "196\n"
     ]
    }
   ],
   "source": [
    "#sum of n natural numbers\n",
    "n=int(input(\"enter the number n: \"))\n",
    "sum_n=0\n",
    "i=1\n",
    "while i<=n:\n",
    "    if i%2!=0:\n",
    "        sum_n=sum_n+i\n",
    "    i=i+1\n",
    "print(sum_n)"
   ]
  },
  {
   "cell_type": "code",
   "execution_count": 2,
   "metadata": {},
   "outputs": [
    {
     "name": "stdout",
     "output_type": "stream",
     "text": [
      " Sum of first 20 Odd Numbers is:  400\n"
     ]
    }
   ],
   "source": [
    "#program to find sum of first n odd numbers \n",
    "\n",
    "def oddSum(n) : \n",
    "    sum = 0\n",
    "    curr = 1\n",
    "    i = 0\n",
    "    while i < n: \n",
    "        sum = sum + curr \n",
    "        curr = curr + 2\n",
    "        i = i + 1\n",
    "    return sum\n",
    "\n",
    "n = 20\n",
    "print (\" Sum of first\" , n, \"Odd Numbers is: \",oddSum(n) ) \n",
    "\n"
   ]
  },
  {
   "cell_type": "code",
   "execution_count": 3,
   "metadata": {},
   "outputs": [],
   "source": [
    "def l_year(x):\n",
    "    x= int(input(\"Enter the year : \"))\n",
    "    if x%4==0:\n",
    "        print(\"leap year\")\n",
    "    else:\n",
    "        print(\"not a leap year\")"
   ]
  },
  {
   "cell_type": "code",
   "execution_count": 5,
   "metadata": {},
   "outputs": [
    {
     "name": "stdout",
     "output_type": "stream",
     "text": [
      "Enter the year : 2016\n",
      "leap year\n"
     ]
    }
   ],
   "source": [
    "l_year(2016)"
   ]
  },
  {
   "cell_type": "code",
   "execution_count": 6,
   "metadata": {},
   "outputs": [],
   "source": [
    "def horner(p,n,x):\n",
    "    n =len(p)\n",
    "    result = p[0]\n",
    "    for i in range(1,n):\n",
    "        result = result*x + p[i]\n",
    "    return result"
   ]
  },
  {
   "cell_type": "code",
   "execution_count": 7,
   "metadata": {},
   "outputs": [
    {
     "data": {
      "text/plain": [
       "15"
      ]
     },
     "execution_count": 7,
     "metadata": {},
     "output_type": "execute_result"
    }
   ],
   "source": [
    "horner([5,4,3,2,1],5,1)"
   ]
  },
  {
   "cell_type": "code",
   "execution_count": 8,
   "metadata": {},
   "outputs": [
    {
     "data": {
      "text/plain": [
       "129"
      ]
     },
     "execution_count": 8,
     "metadata": {},
     "output_type": "execute_result"
    }
   ],
   "source": [
    "horner([5,4,3,2,1],5,2)"
   ]
  },
  {
   "cell_type": "code",
   "execution_count": 14,
   "metadata": {},
   "outputs": [
    {
     "data": {
      "text/plain": [
       "4.0"
      ]
     },
     "execution_count": 14,
     "metadata": {},
     "output_type": "execute_result"
    }
   ],
   "source": [
    "\n",
    "sqrt(16)\n",
    "\n"
   ]
  },
  {
   "cell_type": "code",
   "execution_count": 15,
   "metadata": {},
   "outputs": [
    {
     "data": {
      "text/plain": [
       "4.0"
      ]
     },
     "execution_count": 15,
     "metadata": {},
     "output_type": "execute_result"
    }
   ],
   "source": [
    "sqrt(16)"
   ]
  },
  {
   "cell_type": "code",
   "execution_count": 5,
   "metadata": {},
   "outputs": [
    {
     "name": "stdout",
     "output_type": "stream",
     "text": [
      "enter the x in degress x:30\n",
      "enter the expansion number n:5\n",
      "0.5\n"
     ]
    }
   ],
   "source": [
    "import math as m\n",
    "def sin(x,n):\n",
    "    sine=0\n",
    "    for i in range(n):\n",
    "        sign =(-1)**i\n",
    "        a=(2*i+1)\n",
    "        y=x*(m.pi/180)\n",
    "        b= (y**a)*sign/m.factorial(a)\n",
    "        sine = sine +b\n",
    "    return sine\n",
    "x= int(input(\"enter the x in degress x:\"))\n",
    "n=int(input(\"enter the expansion number n:\"))\n",
    "print(round(sin(x,n),2))"
   ]
  },
  {
   "cell_type": "code",
   "execution_count": null,
   "metadata": {},
   "outputs": [],
   "source": [
    "import math as m\n",
    "def cos(x,n):\n",
    "    sine=0\n",
    "    for i in range(n):\n",
    "        sign =(-1)**i\n",
    "        a=(2*i+1)\n",
    "        y=x*(m.pi/180)\n",
    "        b= (y**a)*sign/m.factorial(a)\n",
    "        sine = sine +b\n",
    "    return sine\n",
    "x= int(input(\"enter the x in degress x:\"))\n",
    "n=int(input(\"enter the expansion number n:\"))\n",
    "print(round(sin(x,n),2))"
   ]
  },
  {
   "cell_type": "code",
   "execution_count": 8,
   "metadata": {},
   "outputs": [
    {
     "name": "stdout",
     "output_type": "stream",
     "text": [
      "enter row number: 2\n",
      "enter col number: 2\n",
      "enter  elements for mat1: \n",
      "1\n",
      "2\n",
      "3\n",
      "4\n",
      "[[1, 2], [3, 4]]\n",
      "1 2 \n",
      "3 4 \n",
      "enter  elements for mat2: \n",
      "2\n",
      "2\n",
      "1\n",
      "2\n",
      "[[2, 2], [1, 2]]\n",
      "2 2 \n",
      "1 2 \n",
      "result is:\n",
      "3 4 \n",
      "4 6 \n"
     ]
    }
   ],
   "source": [
    "#matrix addition\n",
    "row=int(input(\"enter row number: \"))\n",
    "col=int(input(\"enter col number: \"))\n",
    "\n",
    "print(\"enter  elements for mat1: \")\n",
    "mat1=[[int(input()) for i in range(col)]for j in range(row)]\n",
    "print(mat1)\n",
    "for i in range(col):\n",
    "    for j in range(row):\n",
    "           print(mat1[i][j],end=\" \")\n",
    "    print()\n",
    "           \n",
    "           \n",
    "print(\"enter  elements for mat2: \")\n",
    "mat2=[[int(input()) for i in range(col)]for j in range(row)]\n",
    "print(mat2)\n",
    "for i in range(row):\n",
    "    for j in range(col):\n",
    "           print(mat2[i][j],end=\" \")\n",
    "    print()\n",
    "           \n",
    "result=[[0 for i in range(col)]for j in range(row)]\n",
    "\n",
    "for i in range(row):\n",
    "    for j in range(col):\n",
    "           result[i][j]=mat1[i][j]+mat2[i][j]\n",
    "print(\"result is:\")\n",
    "\n",
    "for i in range(row):\n",
    "    for j in range(col):\n",
    "        print(result[i][j],end=\" \")\n",
    "    print()"
   ]
  },
  {
   "cell_type": "code",
   "execution_count": 1,
   "metadata": {},
   "outputs": [
    {
     "name": "stdout",
     "output_type": "stream",
     "text": [
      "enter row number of mat1: 2\n",
      "enter col number of mat1: 2\n",
      "enter col number of mat2: 2\n",
      "enter  elements for mat1: \n",
      "1\n",
      "0\n",
      "1\n",
      "0\n",
      "[[1, 0], [1, 0]]\n",
      "1 0 \n",
      "1 0 \n",
      "enter  elements for mat2: \n",
      "1\n",
      "0\n",
      "0\n",
      "1\n",
      "[[1, 0], [0, 1]]\n",
      "1 0 \n",
      "1 0 \n",
      "result is:\n",
      "1 0 \n",
      "1 0 \n"
     ]
    }
   ],
   "source": [
    "#matrix addition\n",
    "p=int(input(\"enter row number of mat1: \"))\n",
    "q=int(input(\"enter col number of mat1: \"))\n",
    "n=int(input(\"enter col number of mat2: \"))\n",
    "\n",
    "print(\"enter  elements for mat1: \")\n",
    "mat1=[[int(input()) for i in range(n)]for j in range(p)]\n",
    "print(mat1)\n",
    "for i in range(p):\n",
    "    for j in range(q):\n",
    "           print(mat1[i][j],end=\" \")\n",
    "    print()\n",
    "    \n",
    "    \n",
    "print(\"enter  elements for mat2: \")\n",
    "mat2=[[int(input()) for i in range(q)]for j in range(n)]\n",
    "print(mat2)\n",
    "for i in range(n):\n",
    "    for j in range(q):\n",
    "           print(mat1[i][j],end=\" \")\n",
    "    print()\n",
    "    \n",
    "result=[[0 for i in range(q)]for j in range(p)]\n",
    "\n",
    "for i in range(p):\n",
    "    for j in range(q):\n",
    "        for k in range(n):\n",
    "            result[i][j]= result[i][j] + mat1[i][k]*mat2[k][j]\n",
    "print(\"result is:\")\n",
    "\n",
    "for i in range(p):\n",
    "    for j in range(q):\n",
    "        print(result[i][j],end=\" \")\n",
    "    print()\n"
   ]
  },
  {
   "cell_type": "code",
   "execution_count": 3,
   "metadata": {},
   "outputs": [
    {
     "name": "stdout",
     "output_type": "stream",
     "text": [
      " real and different roots \n",
      "3.0\n",
      "-2.0\n"
     ]
    }
   ],
   "source": [
    "# Python program to find roots of quadratic equation \n",
    "import math as m\n",
    "\n",
    "\n",
    "# function for finding roots \n",
    "def equationroots( a, b, c): \n",
    "\n",
    "    #discriminant formula \n",
    "    dis = b * b - 4 * a * c \n",
    "    sqrt_val = math.sqrt(abs(dis)) \n",
    "\n",
    "    # checking condition for discriminant \n",
    "    if dis > 0: \n",
    "        print(\" real and different roots \") \n",
    "        print((-b + sqrt_val)/(2 * a)) \n",
    "        print((-b - sqrt_val)/(2 * a)) \n",
    "\n",
    "    elif dis == 0: \n",
    "        print(\" real and same roots\") \n",
    "        print(-b / (2 * a)) \n",
    "\n",
    "     \n",
    "    else: \n",
    "        print(\"Complex Roots\") \n",
    "        print(- b / (2 * a), \" + i\", sqrt_val) \n",
    "        print(- b / (2 * a), \" - i\", sqrt_val) \n",
    "\n",
    "\n",
    "a = 1\n",
    "b = -1\n",
    "c = -6\n",
    "\n",
    "# If a is 0, then incorrect equation \n",
    "if a == 0: \n",
    "        print(\"incorrect quadratic equation\") \n",
    "\n",
    "else: \n",
    "    equationroots(a, b, c) \n"
   ]
  },
  {
   "cell_type": "markdown",
   "metadata": {},
   "source": [
    "# sample programs from w3school"
   ]
  },
  {
   "cell_type": "code",
   "execution_count": 6,
   "metadata": {},
   "outputs": [
    {
     "name": "stdout",
     "output_type": "stream",
     "text": [
      "[1, 4, 9, 16]\n",
      "[625, 676, 729, 784]\n"
     ]
    }
   ],
   "source": [
    "#Write a Python program to generate and print a list of first and last 5 elements\n",
    "#where the values are square of numbers between 1 and 30 (both included)\n",
    "l=[]\n",
    "for i in range(1,30):\n",
    "    l.append(i**2)\n",
    "print(l[0:4])\n",
    "print(l[-5:-1])\n"
   ]
  },
  {
   "cell_type": "code",
   "execution_count": 7,
   "metadata": {},
   "outputs": [
    {
     "name": "stdout",
     "output_type": "stream",
     "text": [
      "abcd\n"
     ]
    }
   ],
   "source": [
    "#Write a Python program to convert a list of characters into a string\n",
    "s = ['a', 'b', 'c', 'd']\n",
    "str_1= ''.join(s)\n",
    "print(str_1)"
   ]
  },
  {
   "cell_type": "code",
   "execution_count": 5,
   "metadata": {},
   "outputs": [
    {
     "name": "stdout",
     "output_type": "stream",
     "text": [
      "[9, 8, 7, 6, 5, 4, 3, 2, 1]\n",
      "second smallest number is : 2\n"
     ]
    }
   ],
   "source": [
    "#Write a Python program to find the second smallest number in a list.\n",
    "\n",
    "l1=[1,2,3,4,5,6,7,8,9]\n",
    "l2=[]\n",
    "\n",
    "while l1:\n",
    "    maxi=l1[0]\n",
    "    for i in l1:\n",
    "        if i>maxi:\n",
    "            maxi=i\n",
    "    l2.append(maxi)\n",
    "    l1.remove(maxi)\n",
    "            \n",
    "print(l2)\n",
    "print(\"second smallest number is :\",l2[-2])"
   ]
  },
  {
   "cell_type": "code",
   "execution_count": 6,
   "metadata": {},
   "outputs": [
    {
     "name": "stdout",
     "output_type": "stream",
     "text": [
      "[9, 8, 7, 6, 5, 4, 3, 2, 1]\n",
      "second highest number is : 8\n"
     ]
    }
   ],
   "source": [
    "#Write a Python program to find the second highest number in a list.\n",
    "\n",
    "l1=[1,2,3,4,5,6,7,8,9]\n",
    "l2=[]\n",
    "\n",
    "while l1:\n",
    "    maxi=l1[0]\n",
    "    for i in l1:\n",
    "        if i>maxi:\n",
    "            maxi=i\n",
    "    l2.append(maxi)\n",
    "    l1.remove(maxi)\n",
    "            \n",
    "print(l2)\n",
    "print(\"second highest number is :\",l2[1])"
   ]
  },
  {
   "cell_type": "code",
   "execution_count": 1,
   "metadata": {},
   "outputs": [
    {
     "name": "stdout",
     "output_type": "stream",
     "text": [
      "{'a': 10, 'e': 11, 'i': 9, 'o': 7, 'u': 2}\n"
     ]
    }
   ],
   "source": [
    "# Program to count the number of each vowels\n",
    "\n",
    "vowels = 'aeiou'\n",
    "ip_str =\"Google, LLC is an American multinational technology company that specializes in Internet-related services and products\"\n",
    "\n",
    "ip_str = ip_str.casefold()\n",
    "\n",
    "count = {}.fromkeys(vowels,0)\n",
    "\n",
    "for char in ip_str:\n",
    "    if char in count:\n",
    "        count[char] += 1\n",
    "\n",
    "print(count)"
   ]
  },
  {
   "cell_type": "code",
   "execution_count": 8,
   "metadata": {},
   "outputs": [
    {
     "name": "stdout",
     "output_type": "stream",
     "text": [
      "enter number: 250\n",
      "the factors are:  [1, 2, 5, 10, 25, 50, 125, 250]\n"
     ]
    }
   ],
   "source": [
    "# Python Program to find the factors of a number\n",
    "\n",
    "x = int(input(\"enter number: \"))\n",
    "l=[]\n",
    "for i in range(1,x+1):\n",
    "    if x%i==0:\n",
    "        l.append(i)\n",
    "        \n",
    "print(\"the factors are: \",l)"
   ]
  },
  {
   "cell_type": "code",
   "execution_count": 9,
   "metadata": {},
   "outputs": [
    {
     "name": "stdout",
     "output_type": "stream",
     "text": [
      "Numbers divisible by 13 are [65, 39, 221, 117, 143]\n"
     ]
    }
   ],
   "source": [
    "#Python Program to Find Numbers Divisible by Another Number\n",
    "\n",
    "l = [12, 65, 54, 39, 102, 339, 221,117,143]\n",
    "\n",
    "result = list(filter(lambda x: (x % 13 == 0), l))\n",
    "\n",
    "print(\"Numbers divisible by 13 are\",result)"
   ]
  },
  {
   "cell_type": "code",
   "execution_count": 19,
   "metadata": {},
   "outputs": [
    {
     "name": "stdout",
     "output_type": "stream",
     "text": [
      "Prime numbers between 1 and 50 are:\n",
      "2\n",
      "3\n",
      "5\n",
      "7\n",
      "11\n",
      "13\n",
      "17\n",
      "19\n",
      "23\n",
      "29\n",
      "31\n",
      "37\n",
      "41\n",
      "43\n",
      "47\n"
     ]
    }
   ],
   "source": [
    "# Python program to display all the prime numbers within an interval\n",
    "\n",
    "low =1\n",
    "up =50\n",
    "\n",
    "\n",
    "print(\"Prime numbers between\", low, \"and\", up, \"are:\")\n",
    "\n",
    "for i in range(low, up + 1):\n",
    "   \n",
    "   if i > 1:\n",
    "        for j in range(2, i):\n",
    "            if (i % j) == 0:\n",
    "                break\n",
    "        else:\n",
    "            print(i)"
   ]
  },
  {
   "cell_type": "code",
   "execution_count": null,
   "metadata": {},
   "outputs": [],
   "source": [
    "# Python Program to find the area and perimeter of triangle\n",
    "\n",
    "a = float(input('Enter first side: '))\n",
    "b = float(input('Enter second side: '))\n",
    "c = float(input('Enter third side: '))\n",
    "\n",
    "s = (a + b + c) / 2\n",
    "\n",
    "# calculate the area\n",
    "area = (s*(s-a)*(s-b)*(s-c)) ** 0.5\n",
    "perimeter =  2*s\n",
    "print(\"The area of the triangle is :\",area)\n",
    "print(\"The perimeter of the triangle is :\",perimeter)"
   ]
  },
  {
   "cell_type": "code",
   "execution_count": null,
   "metadata": {},
   "outputs": [],
   "source": []
  }
 ],
 "metadata": {
  "kernelspec": {
   "display_name": "Python 3",
   "language": "python",
   "name": "python3"
  },
  "language_info": {
   "codemirror_mode": {
    "name": "ipython",
    "version": 3
   },
   "file_extension": ".py",
   "mimetype": "text/x-python",
   "name": "python",
   "nbconvert_exporter": "python",
   "pygments_lexer": "ipython3",
   "version": "3.6.5"
  }
 },
 "nbformat": 4,
 "nbformat_minor": 2
}
